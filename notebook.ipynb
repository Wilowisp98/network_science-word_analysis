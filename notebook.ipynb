{
 "cells": [
  {
   "attachments": {},
   "cell_type": "markdown",
   "metadata": {},
   "source": [
    "From Text to Word-adjacency networks"
   ]
  },
  {
   "cell_type": "code",
   "execution_count": 1,
   "metadata": {},
   "outputs": [],
   "source": [
    "import networkx as nx\n",
    "\n",
    "def get_network(text, disconnected_chars = ['.', ','], weighted=False):\n",
    "    network = nx.DiGraph()\n",
    "    words = text.split(\" \")\n",
    "    network.add_node(words[0])\n",
    "    for (n, word) in enumerate(words[1:]):\n",
    "        n+=1\n",
    "        network.add_node(word)\n",
    "        edge = (words[n-1], words[n])\n",
    "        if edge in network.edges() and weighted:\n",
    "            network.add_edge(edge[0], edge[1], weight=network.get_edge_data(*edge)['weight']+1)\n",
    "        elif weighted: network.add_edge(*edge, weight=1)\n",
    "        else: network.add_edge(*edge)\n",
    "    \n",
    "    network.remove_nodes_from(disconnected_chars)\n",
    "    return network"
   ]
  },
  {
   "attachments": {},
   "cell_type": "markdown",
   "metadata": {},
   "source": [
    "Obtain text to analyse"
   ]
  },
  {
   "cell_type": "code",
   "execution_count": 2,
   "metadata": {},
   "outputs": [],
   "source": [
    "from src.random_text import get_text\n",
    "\n",
    "text = get_text(size=100)"
   ]
  },
  {
   "attachments": {},
   "cell_type": "markdown",
   "metadata": {},
   "source": [
    "Convert from Text-To-Network"
   ]
  },
  {
   "cell_type": "code",
   "execution_count": 6,
   "metadata": {},
   "outputs": [
    {
     "name": "stdout",
     "output_type": "stream",
     "text": [
      "[('scarabaeus', 'coredeemer'), ('coredeemer', 'ask'), ('ask', 'prudelike'), ('prudelike', 'hemocrystallin'), ('hemocrystallin', 'theligonaceous'), ('theligonaceous', 'subhysteria'), ('subhysteria', 'irremissive'), ('irremissive', 'decalogist'), ('decalogist', 'bewreath'), ('bewreath', 'underpole'), ('underpole', 'begum'), ('begum', 'chullpa'), ('chullpa', 'bostonian'), ('bostonian', 'franciscan'), ('franciscan', 'regelate'), ('regelate', 'enleven'), ('enleven', 'adiposis'), ('adiposis', 'arcadia'), ('arcadia', 'pyralidid'), ('pyralidid', 'chancroid'), ('chancroid', 'claro-obscuro'), ('claro-obscuro', 'icebreaker'), ('icebreaker', 'thelphusidae'), ('thelphusidae', 'mainferre'), ('mainferre', 'smuisty'), ('smuisty', 'attribute'), ('attribute', 'ophthalmitic'), ('ophthalmitic', 'smiling'), ('smiling', 'testificatory'), ('testificatory', 'verbasco'), ('verbasco', 'suyog'), ('suyog', 'thort'), ('thort', 'obambulatory'), ('obambulatory', 'celiocolpotomy'), ('celiocolpotomy', 'yolkless'), ('yolkless', 'perceivingness'), ('perceivingness', 'locality'), ('locality', 'rookie'), ('rookie', 'redesire'), ('redesire', 'uncorresponding'), ('uncorresponding', 'balsamorrhiza'), ('balsamorrhiza', 'unwayed'), ('unwayed', 'scuddick'), ('scuddick', 'hunchbacked'), ('hunchbacked', 'nodicorn'), ('nodicorn', 'provostship'), ('provostship', 'deuterogamist'), ('deuterogamist', 'dipsaceous'), ('dipsaceous', 'harp'), ('harp', 'interquarter'), ('interquarter', 'moi'), ('moi', 'fenianism'), ('fenianism', 'fady'), ('fady', 'fissiparism'), ('fissiparism', 'isoelectronic'), ('isoelectronic', 'mismanage'), ('mismanage', 'pharyngoplegic'), ('pharyngoplegic', 'belanda'), ('belanda', 'reverify'), ('reverify', 'wisteria'), ('wisteria', 'reinstalment'), ('reinstalment', 'interimperial'), ('interimperial', 'culture'), ('culture', 'myth'), ('myth', 'bearer'), ('bearer', 'clockmaker'), ('clockmaker', 'firebolt'), ('firebolt', 'ineludibly'), ('ineludibly', 'reek'), ('reek', 'sensomobility'), ('sensomobility', 'dihybrid'), ('dihybrid', 'machilidae'), ('machilidae', 'menthol'), ('menthol', 'prioracy'), ('prioracy', 'divers'), ('divers', 'drafty'), ('drafty', 'sarcoplasm'), ('sarcoplasm', 'parliamentarism'), ('parliamentarism', 'monobranchiate'), ('monobranchiate', 'accommodating'), ('accommodating', 'roseo-'), ('roseo-', 'uncudgelled'), ('uncudgelled', 'spantoon'), ('spantoon', 'rikk'), ('rikk', 'newfashioned'), ('newfashioned', 'carbolineum'), ('carbolineum', 'uniaxially'), ('uniaxially', 'ctenoidean'), ('ctenoidean', 'authentical'), ('authentical', 'novate'), ('novate', 'puboischiac'), ('puboischiac', 'endemiology'), ('endemiology', 'depauperization'), ('depauperization', 'amaethon'), ('amaethon', 'candleshine'), ('candleshine', 'culilawan'), ('culilawan', 'pyruvate'), ('pyruvate', 'deka-'), ('deka-', 'laparotomize'), ('laparotomize', 'antikinase')]\n"
     ]
    }
   ],
   "source": [
    "network = get_network(text, weighted=False)\n",
    "print(network.edges())"
   ]
  }
 ],
 "metadata": {
  "kernelspec": {
   "display_name": "Python 3",
   "language": "python",
   "name": "python3"
  },
  "language_info": {
   "codemirror_mode": {
    "name": "ipython",
    "version": 3
   },
   "file_extension": ".py",
   "mimetype": "text/x-python",
   "name": "python",
   "nbconvert_exporter": "python",
   "pygments_lexer": "ipython3",
   "version": "3.10.11"
  },
  "orig_nbformat": 4
 },
 "nbformat": 4,
 "nbformat_minor": 2
}
