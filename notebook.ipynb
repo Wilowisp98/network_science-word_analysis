{
 "cells": [
  {
   "attachments": {},
   "cell_type": "markdown",
   "metadata": {},
   "source": [
    "From Text to Word-adjacency networks"
   ]
  },
  {
   "cell_type": "code",
   "execution_count": null,
   "metadata": {},
   "outputs": [],
   "source": [
    "import networkx as nx\n",
    "\n",
    "def get_network(text, disconnected_chars = ['.', ',']):\n",
    "    network = nx.DiGraph()\n",
    "    words = text.split(\" \")\n",
    "    network.add_node(words[0])\n",
    "    for (n, word) in enumerate(words[1:]):\n",
    "        n+=1\n",
    "        network.add_node(word)\n",
    "        edge = (words[n-1], words[n])\n",
    "        if edge in network.edges():\n",
    "            network.add_edge(edge[0], edge[1], weight=network.get_edge_data(*edge)['weight']+1)\n",
    "        else: network.add_edge(*edge, weight=1)\n",
    "    \n",
    "    network.remove_nodes_from(disconnected_chars)\n",
    "    return network"
   ]
  }
 ],
 "metadata": {
  "language_info": {
   "name": "python"
  },
  "orig_nbformat": 4
 },
 "nbformat": 4,
 "nbformat_minor": 2
}
